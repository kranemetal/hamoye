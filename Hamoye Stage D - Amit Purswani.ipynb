{
 "cells": [
  {
   "cell_type": "markdown",
   "metadata": {},
   "source": [
    "# Hamoye Stage D - Amit Purswani"
   ]
  },
  {
   "cell_type": "code",
   "execution_count": 2,
   "metadata": {},
   "outputs": [
    {
     "name": "stdout",
     "output_type": "stream",
     "text": [
      "WARNING:tensorflow:From C:\\Users\\krane\\AppData\\Roaming\\Python\\Python38\\site-packages\\tensorflow\\python\\compat\\v2_compat.py:101: disable_resource_variables (from tensorflow.python.ops.variable_scope) is deprecated and will be removed in a future version.\n",
      "Instructions for updating:\n",
      "non-resource variables are not supported in the long term\n"
     ]
    }
   ],
   "source": [
    "import numpy as np\n",
    "import matplotlib.pyplot as plt\n",
    "import tensorflow.compat.v1 as tf\n",
    "tf.disable_v2_behavior()\n",
    "from tensorflow import keras"
   ]
  },
  {
   "cell_type": "code",
   "execution_count": 4,
   "metadata": {},
   "outputs": [
    {
     "name": "stdout",
     "output_type": "stream",
     "text": [
      "Training data: (60000, 28, 28), (60000,)\n",
      "Test data: (10000, 28, 28), (10000,)\n",
      "There are 10 classes in the dataset. They are: [0 1 2 3 4 5 6 7 8 9]\n"
     ]
    }
   ],
   "source": [
    "mnist = keras.datasets.mnist\n",
    "(train_images, train_labels), (test_images, test_labels) = mnist.load_data()\n",
    "\n",
    "print(\"Training data: {}, {}\".format(train_images.shape, train_labels.shape))\n",
    "# prints Training data: (60000, 28, 28), (60000,)\n",
    "print(\"Test data: {}, {}\".format(test_images.shape, test_labels.shape))\n",
    "# prints Test data: (10000, 28, 28), (10000,)\n",
    "class_labels = np.unique(train_labels)\n",
    "print(\"There are {} classes in the dataset. They are: {}\".format(len(class_labels), class_labels))\n",
    "# prints There are 10 classes in the dataset. They are: [0 1 2 3 4 5 6 7 8 9]"
   ]
  },
  {
   "cell_type": "code",
   "execution_count": 5,
   "metadata": {},
   "outputs": [
    {
     "data": {
      "image/png": "[encoded data removed]",
      "text/plain": [
       "<Figure size 576x360 with 3 Axes>"
      ]
     },
     "metadata": {
      "needs_background": "light"
     },
     "output_type": "display_data"
    }
   ],
   "source": [
    "plt.figure(figsize=(8, 5))\n",
    "\n",
    "plt.subplot(1,3,1)\n",
    "plt.imshow(train_images[0])\n",
    "plt.title(\"Label: {}\".format(train_labels[0]))\n",
    "\n",
    "plt.subplot(1,3,2)\n",
    "plt.imshow(train_images[2500])\n",
    "plt.title(\"Label: {}\".format(train_labels[2500]))\n",
    "\n",
    "plt.subplot(1,3,3)\n",
    "plt.imshow(test_images[12])\n",
    "\n",
    "plt.show()"
   ]
  },
  {
   "cell_type": "code",
   "execution_count": 6,
   "metadata": {},
   "outputs": [],
   "source": [
    "train_images = train_images / 255.0\n",
    "test_images = test_images / 255.0"
   ]
  },
  {
   "cell_type": "code",
   "execution_count": 7,
   "metadata": {},
   "outputs": [
    {
     "name": "stdout",
     "output_type": "stream",
     "text": [
      "x_train: (50000, 28, 28)\n",
      "x_val: (10000, 28, 28)\n",
      "y_train: (50000,)\n",
      "y_val: (10000,)\n"
     ]
    }
   ],
   "source": [
    "x_train = train_images[0:50000]\n",
    "x_val = train_images[50000:]\n",
    "y_train = train_labels[0:50000]\n",
    "y_val = train_labels[50000:]\n",
    "\n",
    "print(\"x_train: {}\".format(x_train.shape)) # prints x_train: (50000, 28, 28)\n",
    "print(\"x_val: {}\".format(x_val.shape)) # prints x_val: (10000, 28, 28)\n",
    "print(\"y_train: {}\".format(y_train.shape)) #prints y_train: (50000,)\n",
    "print(\"y_val: {}\".format(y_val.shape)) #prints y_val: (10000,)"
   ]
  },
  {
   "cell_type": "code",
   "execution_count": 8,
   "metadata": {},
   "outputs": [
    {
     "name": "stdout",
     "output_type": "stream",
     "text": [
      "x_train: (50000, 784)\n",
      "x_val: (10000, 784)\n",
      "test_images: (10000, 784)\n"
     ]
    }
   ],
   "source": [
    "new_dimension = np.prod(train_images.shape[1:])\n",
    "x_train = x_train.reshape(x_train.shape[0], new_dimension)\n",
    "x_val = x_val.reshape(x_val.shape[0], new_dimension)\n",
    "test_images = test_images.reshape(test_images.shape[0], new_dimension)\n",
    "\n",
    "print(\"x_train: {}\".format(x_train.shape)) #prints  x_train: (50000, 784)\n",
    "print(\"x_val: {}\".format(x_val.shape)) #prints x_val: (10000, 784)\n",
    "print(\"test_images: {}\".format(test_images.shape)) #prints test_images: (10000, 784)"
   ]
  },
  {
   "cell_type": "code",
   "execution_count": 9,
   "metadata": {},
   "outputs": [],
   "source": [
    "from tensorflow.keras.utils import to_categorical\n",
    "no_labels = 10\n",
    "y_train = to_categorical(y_train, no_labels)\n",
    "y_val = to_categorical(y_val, no_labels)\n",
    "y_test = to_categorical(test_labels, no_labels)"
   ]
  },
  {
   "cell_type": "code",
   "execution_count": 10,
   "metadata": {},
   "outputs": [],
   "source": [
    "# inputs\n",
    "#placeholders are not enabled in tf 2\n",
    "X = tf.placeholder(tf.float32, [None, new_dimension])\n",
    "Y = tf.placeholder(tf.float32, [None, no_labels])"
   ]
  },
  {
   "cell_type": "code",
   "execution_count": 11,
   "metadata": {},
   "outputs": [],
   "source": [
    "# create model architecture\n",
    "def multilayer_perceptron(x, no_classes, first_layer_neurons=256, second_layer_neurons=128):\n",
    "  # first layer\n",
    "  first_weight = tf.Variable(tf.random_uniform([new_dimension, first_layer_neurons]))\n",
    "  first_bias = tf.Variable(tf.zeros([first_layer_neurons]))\n",
    "  first_layer_output = tf.nn.relu(tf.add(tf.matmul(x, first_weight), first_bias))\n",
    "\n",
    "  # second layer\n",
    "  second_weight = tf.Variable(tf.random_uniform([first_layer_neurons,second_layer_neurons]))\n",
    "  second_bias = tf.Variable(tf.zeros([second_layer_neurons]))\n",
    "  second_layer_output = tf.nn.relu(tf.add(tf.matmul(first_layer_output, second_weight), \n",
    "                                          second_bias))\n",
    "\n",
    "  # output layer\n",
    "  final_weight = tf.Variable(tf.random_uniform([second_layer_neurons, no_classes]))\n",
    "  final_bias = tf.Variable(tf.zeros([no_classes]))\n",
    "  logits = tf.add(tf.matmul(second_layer_output, final_weight), final_bias)\n",
    "\n",
    "  return logits"
   ]
  },
  {
   "cell_type": "code",
   "execution_count": 12,
   "metadata": {},
   "outputs": [
    {
     "name": "stdout",
     "output_type": "stream",
     "text": [
      "WARNING:tensorflow:From C:\\Users\\krane\\AppData\\Roaming\\Python\\Python38\\site-packages\\tensorflow\\python\\util\\dispatch.py:206: softmax_cross_entropy_with_logits (from tensorflow.python.ops.nn_ops) is deprecated and will be removed in a future version.\n",
      "Instructions for updating:\n",
      "\n",
      "Future major versions of TensorFlow will allow gradients to flow\n",
      "into the labels input on backprop by default.\n",
      "\n",
      "See `tf.nn.softmax_cross_entropy_with_logits_v2`.\n",
      "\n"
     ]
    }
   ],
   "source": [
    "logits = multilayer_perceptron(X, no_labels)\n",
    "\n",
    "learning_rate = 0.01\n",
    "#we define the loss and optimiser for the network\n",
    "loss_op = tf.reduce_mean(tf.nn.softmax_cross_entropy_with_logits(logits=logits, labels=Y))\n",
    "optimiser = tf.train.AdamOptimizer(learning_rate=learning_rate)\n",
    "train_op = optimiser.minimize(loss_op)\n",
    "\n",
    "#initialise the variables\n",
    "init = tf.global_variables_initializer()\n",
    "\n",
    "epochs = 20\n",
    "batch_size = 1000\n",
    "iteration = len(x_train) // batch_size"
   ]
  },
  {
   "cell_type": "code",
   "execution_count": 17,
   "metadata": {},
   "outputs": [
    {
     "name": "stdout",
     "output_type": "stream",
     "text": [
      "Epoch========0\n",
      "Epoch========1\n",
      "Epoch========2\n",
      "Epoch========3\n",
      "Epoch========4\n",
      "Epoch========5\n",
      "Epoch========6\n",
      "Epoch========7\n",
      "Epoch========8\n",
      "Epoch========9\n",
      "Epoch========10\n",
      "Epoch========11\n",
      "Epoch========12\n",
      "Epoch========13\n",
      "Epoch========14\n",
      "Epoch========15\n",
      "Epoch========16\n",
      "Epoch========17\n",
      "Epoch========18\n",
      "Epoch========19\n",
      "Accuracy: 0.9169999957084656\n"
     ]
    }
   ],
   "source": [
    "#train model\n",
    "with tf.Session() as session:\n",
    "  session.run(init)\n",
    "  for epoch in range(epochs):\n",
    "    average_cost = 0\n",
    "    start, end = 0, batch_size\n",
    "\n",
    "    for i in range(iteration):\n",
    "      batch_x, batch_y = x_train[start: end], y_train[start: end]\n",
    "      _, loss = session.run([train_op, loss_op], feed_dict={X: batch_x, Y: batch_y})\n",
    "      start += batch_size\n",
    "      end += batch_size \n",
    "      #average loss\n",
    "      average_cost += loss/iteration\n",
    "    print(\"Epoch========{}\".format(epoch))\n",
    "    \n",
    "  #evaluate model\n",
    "  prediction = tf.nn.softmax(logits)\n",
    "  ground_truth = tf.equal(tf.argmax(prediction, 1), tf.argmax(Y, 1))\n",
    "  accuracy = tf.reduce_mean(tf.cast(ground_truth, \"float\"))\n",
    "  print(\"Accuracy: {}\".format(accuracy.eval({X: test_images, Y: y_test})))"
   ]
  },
  {
   "cell_type": "code",
   "execution_count": 18,
   "metadata": {},
   "outputs": [],
   "source": [
    "#Building a Sequential Feed Forward Network in Keras\n",
    "\n",
    "from tensorflow.keras.layers import Dense\n",
    "from tensorflow.keras.models import Sequential\n",
    "#Build the model object\n",
    "model = Sequential()\n",
    "# Build the input and the hidden layers\n",
    "model.add(Dense(256, activation='relu', input_shape=(new_dimension,)))\n",
    "model.add(Dense(128, activation='relu'))\n",
    "# Build the output layer\n",
    "model.add(Dense(no_labels, activation='softmax'))"
   ]
  },
  {
   "cell_type": "code",
   "execution_count": 19,
   "metadata": {},
   "outputs": [],
   "source": [
    "model.compile(optimizer='adam', loss=tf.keras.losses.categorical_crossentropy, \n",
    "              metrics=['accuracy'])"
   ]
  },
  {
   "cell_type": "code",
   "execution_count": 20,
   "metadata": {},
   "outputs": [
    {
     "name": "stdout",
     "output_type": "stream",
     "text": [
      "Train on 50000 samples, validate on 10000 samples\n",
      "Epoch 1/20\n",
      "49000/50000 [============================>.] - ETA: 0s - loss: 0.7042 - acc: 0.8109"
     ]
    },
    {
     "name": "stderr",
     "output_type": "stream",
     "text": [
      "C:\\Users\\krane\\AppData\\Roaming\\Python\\Python38\\site-packages\\keras\\engine\\training.py:2470: UserWarning: `Model.state_updates` will be removed in a future version. This property should not be used in TensorFlow 2.0, as `updates` are applied automatically.\n",
      "  warnings.warn('`Model.state_updates` will be removed in a future version. '\n"
     ]
    },
    {
     "name": "stdout",
     "output_type": "stream",
     "text": [
      "50000/50000 [==============================] - 3s 61us/sample - loss: 0.6956 - acc: 0.8131 - val_loss: 0.2625 - val_acc: 0.9241\n",
      "Epoch 2/20\n",
      "50000/50000 [==============================] - 2s 31us/sample - loss: 0.2378 - acc: 0.9322 - val_loss: 0.1868 - val_acc: 0.9477\n",
      "Epoch 3/20\n",
      "50000/50000 [==============================] - 1s 20us/sample - loss: 0.1731 - acc: 0.9503 - val_loss: 0.1510 - val_acc: 0.9573\n",
      "Epoch 4/20\n",
      "50000/50000 [==============================] - 1s 19us/sample - loss: 0.1352 - acc: 0.9614 - val_loss: 0.1286 - val_acc: 0.9633\n",
      "Epoch 5/20\n",
      "50000/50000 [==============================] - 1s 19us/sample - loss: 0.1096 - acc: 0.9684 - val_loss: 0.1141 - val_acc: 0.9675\n",
      "Epoch 6/20\n",
      "50000/50000 [==============================] - 1s 19us/sample - loss: 0.0917 - acc: 0.9743 - val_loss: 0.1038 - val_acc: 0.9682\n",
      "Epoch 7/20\n",
      "50000/50000 [==============================] - 1s 21us/sample - loss: 0.0770 - acc: 0.9785 - val_loss: 0.0941 - val_acc: 0.9713\n",
      "Epoch 8/20\n",
      "50000/50000 [==============================] - 1s 21us/sample - loss: 0.0658 - acc: 0.9815 - val_loss: 0.0881 - val_acc: 0.9736\n",
      "Epoch 9/20\n",
      "50000/50000 [==============================] - 1s 19us/sample - loss: 0.0546 - acc: 0.9853 - val_loss: 0.0883 - val_acc: 0.9738\n",
      "Epoch 10/20\n",
      "50000/50000 [==============================] - 1s 19us/sample - loss: 0.0477 - acc: 0.9874 - val_loss: 0.0886 - val_acc: 0.9731\n",
      "Epoch 11/20\n",
      "50000/50000 [==============================] - 1s 21us/sample - loss: 0.0421 - acc: 0.9889 - val_loss: 0.0804 - val_acc: 0.9761\n",
      "Epoch 12/20\n",
      "50000/50000 [==============================] - 1s 19us/sample - loss: 0.0370 - acc: 0.9903 - val_loss: 0.0828 - val_acc: 0.9754\n",
      "Epoch 13/20\n",
      "50000/50000 [==============================] - 1s 22us/sample - loss: 0.0302 - acc: 0.9927 - val_loss: 0.0810 - val_acc: 0.9759\n",
      "Epoch 14/20\n",
      "50000/50000 [==============================] - 1s 21us/sample - loss: 0.0264 - acc: 0.9938 - val_loss: 0.0786 - val_acc: 0.9772\n",
      "Epoch 15/20\n",
      "50000/50000 [==============================] - 1s 20us/sample - loss: 0.0223 - acc: 0.9949 - val_loss: 0.0784 - val_acc: 0.9776\n",
      "Epoch 16/20\n",
      "50000/50000 [==============================] - 1s 19us/sample - loss: 0.0189 - acc: 0.9960 - val_loss: 0.0769 - val_acc: 0.9770\n",
      "Epoch 17/20\n",
      "50000/50000 [==============================] - 1s 21us/sample - loss: 0.0168 - acc: 0.9966 - val_loss: 0.0783 - val_acc: 0.9772\n",
      "Epoch 18/20\n",
      "50000/50000 [==============================] - 1s 19us/sample - loss: 0.0150 - acc: 0.9972 - val_loss: 0.0800 - val_acc: 0.9770\n",
      "Epoch 19/20\n",
      "50000/50000 [==============================] - 1s 20us/sample - loss: 0.0122 - acc: 0.9980 - val_loss: 0.0819 - val_acc: 0.9765\n",
      "Epoch 20/20\n",
      "50000/50000 [==============================] - 1s 19us/sample - loss: 0.0102 - acc: 0.9985 - val_loss: 0.0785 - val_acc: 0.9783\n",
      "Test loss: 0.0743894427414576\n",
      "Test accuracy: 0.9790999889373779\n"
     ]
    }
   ],
   "source": [
    "history = model.fit(x_train, y_train, validation_data=(x_val, y_val), epochs=20, batch_size=1000)\n",
    "\n",
    "test_loss, test_accuracy = model.evaluate(test_images, y_test)\n",
    "print('Test loss: {}'.format(test_loss))\n",
    "print('Test accuracy: {}'.format(test_accuracy))"
   ]
  },
  {
   "cell_type": "code",
   "execution_count": 21,
   "metadata": {},
   "outputs": [
    {
     "data": {
      "text/plain": [
       "Text(0.5, 1.0, 'Loss Curves - before regularisation')"
      ]
     },
     "execution_count": 21,
     "metadata": {},
     "output_type": "execute_result"
    },
    {
     "data": {
      "image/png": "[encoded data removed]",
      "text/plain": [
       "<Figure size 432x288 with 1 Axes>"
      ]
     },
     "metadata": {
      "needs_background": "light"
     },
     "output_type": "display_data"
    }
   ],
   "source": [
    "\n",
    "#Check for Overfitting\n",
    "\n",
    "plt.figure()\n",
    "plt.plot(history.history['loss'], 'blue')\n",
    "plt.plot(history.history['val_loss'], 'red')\n",
    "plt.legend(['Training loss', 'Validation Loss'])\n",
    "plt.xlabel('Epochs')\n",
    "plt.ylabel('Loss')\n",
    "plt.title('Loss Curves - before regularisation')"
   ]
  },
  {
   "cell_type": "code",
   "execution_count": 22,
   "metadata": {},
   "outputs": [
    {
     "name": "stdout",
     "output_type": "stream",
     "text": [
      "Train on 50000 samples, validate on 10000 samples\n",
      "Epoch 1/20\n",
      "50000/50000 [==============================] - 1s 28us/sample - loss: 0.9551 - acc: 0.6950 - val_loss: 0.2894 - val_acc: 0.9192\n",
      "Epoch 2/20\n",
      "50000/50000 [==============================] - 1s 28us/sample - loss: 0.3811 - acc: 0.8866 - val_loss: 0.2060 - val_acc: 0.9410\n",
      "Epoch 3/20\n",
      "50000/50000 [==============================] - 1s 29us/sample - loss: 0.2856 - acc: 0.9159 - val_loss: 0.1658 - val_acc: 0.9526\n",
      "Epoch 4/20\n",
      "50000/50000 [==============================] - 1s 23us/sample - loss: 0.2358 - acc: 0.9309 - val_loss: 0.1402 - val_acc: 0.9588\n",
      "Epoch 5/20\n",
      "50000/50000 [==============================] - 1s 28us/sample - loss: 0.1994 - acc: 0.9408 - val_loss: 0.1229 - val_acc: 0.9645\n",
      "Epoch 6/20\n",
      "50000/50000 [==============================] - 1s 24us/sample - loss: 0.1784 - acc: 0.9466 - val_loss: 0.1100 - val_acc: 0.9685\n",
      "Epoch 7/20\n",
      "50000/50000 [==============================] - 1s 24us/sample - loss: 0.1542 - acc: 0.9546 - val_loss: 0.1026 - val_acc: 0.9700\n",
      "Epoch 8/20\n",
      "50000/50000 [==============================] - 1s 28us/sample - loss: 0.1409 - acc: 0.9586 - val_loss: 0.0951 - val_acc: 0.9726\n",
      "Epoch 9/20\n",
      "50000/50000 [==============================] - 1s 27us/sample - loss: 0.1316 - acc: 0.9604 - val_loss: 0.0916 - val_acc: 0.9728\n",
      "Epoch 10/20\n",
      "50000/50000 [==============================] - 1s 25us/sample - loss: 0.1190 - acc: 0.9653 - val_loss: 0.0868 - val_acc: 0.9744\n",
      "Epoch 11/20\n",
      "50000/50000 [==============================] - 1s 26us/sample - loss: 0.1110 - acc: 0.9664 - val_loss: 0.0805 - val_acc: 0.9755\n",
      "Epoch 12/20\n",
      "50000/50000 [==============================] - 1s 26us/sample - loss: 0.1036 - acc: 0.9680 - val_loss: 0.0814 - val_acc: 0.9753\n",
      "Epoch 13/20\n",
      "50000/50000 [==============================] - 1s 25us/sample - loss: 0.0988 - acc: 0.9703 - val_loss: 0.0784 - val_acc: 0.9768\n",
      "Epoch 14/20\n",
      "50000/50000 [==============================] - 1s 28us/sample - loss: 0.0902 - acc: 0.9720 - val_loss: 0.0761 - val_acc: 0.9778\n",
      "Epoch 15/20\n",
      "50000/50000 [==============================] - 1s 25us/sample - loss: 0.0839 - acc: 0.9748 - val_loss: 0.0737 - val_acc: 0.9785\n",
      "Epoch 16/20\n",
      "50000/50000 [==============================] - 1s 26us/sample - loss: 0.0793 - acc: 0.9757 - val_loss: 0.0719 - val_acc: 0.9787\n",
      "Epoch 17/20\n",
      "50000/50000 [==============================] - 1s 25us/sample - loss: 0.0782 - acc: 0.9758 - val_loss: 0.0733 - val_acc: 0.9784\n",
      "Epoch 18/20\n",
      "50000/50000 [==============================] - 1s 25us/sample - loss: 0.0709 - acc: 0.9779 - val_loss: 0.0708 - val_acc: 0.9776\n",
      "Epoch 19/20\n",
      "50000/50000 [==============================] - 1s 26us/sample - loss: 0.0697 - acc: 0.9780 - val_loss: 0.0748 - val_acc: 0.9798\n",
      "Epoch 20/20\n",
      "50000/50000 [==============================] - 1s 27us/sample - loss: 0.0676 - acc: 0.9795 - val_loss: 0.0720 - val_acc: 0.9783\n",
      "Test loss: 0.07113996025538072\n",
      "Test accuracy: 0.9799000024795532\n"
     ]
    }
   ],
   "source": [
    "from tensorflow.keras.layers import Dropout\n",
    "reg_model = Sequential()\n",
    "reg_model.add(Dense(256, activation='relu', input_shape=(new_dimension,)))\n",
    "reg_model.add(Dropout(0.4))\n",
    "reg_model.add(Dense(128, activation='relu'))\n",
    "reg_model.add(Dropout(0.4))\n",
    "reg_model.add(Dense(no_labels, activation='softmax'))\n",
    "\n",
    "reg_model.compile(optimizer='adam', loss=tf.keras.losses.categorical_crossentropy, \n",
    "              metrics=['accuracy'])\n",
    "\n",
    "reg_history = reg_model.fit(x_train, y_train, validation_data=(x_val, y_val), \n",
    "                            epochs=20, batch_size=1000)\n",
    "test_loss, test_accuracy = reg_model.evaluate(test_images, y_test)\n",
    "print('Test loss: {}'.format(test_loss))\n",
    "print('Test accuracy: {}'.format(test_accuracy))"
   ]
  },
  {
   "cell_type": "code",
   "execution_count": 23,
   "metadata": {},
   "outputs": [
    {
     "name": "stdout",
     "output_type": "stream",
     "text": [
      "Test loss: 0.07113996025538072\n",
      "Test accuracy: 0.9799000024795532\n"
     ]
    }
   ],
   "source": [
    "\n",
    "test_loss, test_accuracy = reg_model.evaluate(test_images, y_test)\n",
    "print('Test loss: {}'.format(test_loss))\n",
    "print('Test accuracy: {}'.format(test_accuracy))"
   ]
  },
  {
   "cell_type": "code",
   "execution_count": 24,
   "metadata": {},
   "outputs": [
    {
     "data": {
      "text/plain": [
       "Text(0.5, 1.0, 'Loss Curves - after regularisation')"
      ]
     },
     "execution_count": 24,
     "metadata": {},
     "output_type": "execute_result"
    },
    {
     "data": {
      "image/png": "[encoded data removed]",
      "text/plain": [
       "<Figure size 432x288 with 1 Axes>"
      ]
     },
     "metadata": {
      "needs_background": "light"
     },
     "output_type": "display_data"
    }
   ],
   "source": [
    "\n",
    "plt.figure()\n",
    "plt.plot(reg_history.history['loss'], 'blue')\n",
    "plt.plot(reg_history.history['val_loss'], 'red')\n",
    "plt.legend(['Training loss', 'Validation Loss'])\n",
    "plt.xlabel('Epochs')\n",
    "plt.ylabel('Loss')\n",
    "plt.title('Loss Curves - after regularisation')"
   ]
  },
  {
   "cell_type": "code",
   "execution_count": 25,
   "metadata": {},
   "outputs": [
    {
     "name": "stdout",
     "output_type": "stream",
     "text": [
      "9\n"
     ]
    }
   ],
   "source": [
    "predictions = model.predict([test_images]) # Make prediction\n",
    "print(np.argmax(predictions[1000])) # Print out 9"
   ]
  },
  {
   "cell_type": "code",
   "execution_count": 26,
   "metadata": {},
   "outputs": [
    {
     "data": {
      "image/png": "[encoded data removed]",
      "text/plain": [
       "<Figure size 576x360 with 1 Axes>"
      ]
     },
     "metadata": {
      "needs_background": "light"
     },
     "output_type": "display_data"
    }
   ],
   "source": [
    "# Let's see whether the image would turn out to be 9\n",
    "# Remember that the input data to the network were flattened for the purpose of learning to a vector with a length of 784. Before displaying it, we need to convert it back to the size of 28 x 28 pixels.\n",
    "plt.figure(figsize=(8, 5))\n",
    "\n",
    "plt.subplot(1,3,1)\n",
    "plt.imshow(test_images[1000].reshape(28,28), cmap=\"gray\") # Import the image\n",
    "plt.show() # Show the image"
   ]
  },
  {
   "cell_type": "code",
   "execution_count": 27,
   "metadata": {},
   "outputs": [
    {
     "name": "stdout",
     "output_type": "stream",
     "text": [
      "4\n"
     ]
    }
   ],
   "source": [
    "# You can try out others and play around with them\n",
    "predictions = model.predict([test_images]) # Make prediction\n",
    "print(np.argmax(predictions[6700])) # Print out the number"
   ]
  },
  {
   "cell_type": "code",
   "execution_count": 28,
   "metadata": {},
   "outputs": [
    {
     "data": {
      "image/png": "[encoded data removed]",
      "text/plain": [
       "<Figure size 576x360 with 1 Axes>"
      ]
     },
     "metadata": {
      "needs_background": "light"
     },
     "output_type": "display_data"
    }
   ],
   "source": [
    "plt.figure(figsize=(8, 5))\n",
    "\n",
    "plt.subplot(1,3,1)\n",
    "plt.imshow(test_images[6700].reshape(28,28), cmap=\"gray\") # Import the image\n",
    "plt.show() # Show the image"
   ]
  },
  {
   "cell_type": "markdown",
   "metadata": {},
   "source": [
    "# End of Notebook"
   ]
  },
  {
   "cell_type": "code",
   "execution_count": null,
   "metadata": {},
   "outputs": [],
   "source": []
  }
 ],
 "metadata": {
  "kernelspec": {
   "display_name": "Python 3",
   "language": "python",
   "name": "python3"
  },
  "language_info": {
   "codemirror_mode": {
    "name": "ipython",
    "version": 3
   },
   "file_extension": ".py",
   "mimetype": "text/x-python",
   "name": "python",
   "nbconvert_exporter": "python",
   "pygments_lexer": "ipython3",
   "version": "3.8.3"
  }
 },
 "nbformat": 4,
 "nbformat_minor": 4
}
